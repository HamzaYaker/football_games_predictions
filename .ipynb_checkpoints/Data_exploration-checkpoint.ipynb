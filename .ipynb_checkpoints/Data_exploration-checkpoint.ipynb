{
 "cells": [
  {
   "cell_type": "code",
   "execution_count": 1,
   "metadata": {},
   "outputs": [
    {
     "name": "stdout",
     "output_type": "stream",
     "text": [
      "Populating the interactive namespace from numpy and matplotlib\n"
     ]
    }
   ],
   "source": [
    "%pylab inline\n",
    "import pandas as pd\n",
    "import numpy as np\n",
    "import matplotlib.pyplot as plt\n",
    "import matplotlib.style as style\n",
    "import sys\n",
    "\n",
    "import warnings\n",
    "warnings.filterwarnings('ignore')\n"
   ]
  },
  {
   "cell_type": "code",
   "execution_count": 2,
   "metadata": {},
   "outputs": [],
   "source": [
    "## Load Premier League and Championship results of last season + current PL season\n",
    "df_current_season=pd.read_csv('PL_Results_20_21.csv')\n",
    "df_last_season=pd.read_csv('PL_Results_19_20.csv')\n",
    "df_D2_last_season=pd.read_csv('Championship_Results_19_20.csv')"
   ]
  },
  {
   "cell_type": "raw",
   "metadata": {},
   "source": [
    "Preparation et traitement des données\n"
   ]
  },
  {
   "cell_type": "code",
   "execution_count": 6,
   "metadata": {},
   "outputs": [
    {
     "data": {
      "text/plain": [
       "Index(['Div', 'Date', 'Time', 'HomeTeam', 'AwayTeam', 'FTHG', 'FTAG', 'FTR',\n",
       "       'HTHG', 'HTAG',\n",
       "       ...\n",
       "       'AvgC<2.5', 'AHCh', 'B365CAHH', 'B365CAHA', 'PCAHH', 'PCAHA', 'MaxCAHH',\n",
       "       'MaxCAHA', 'AvgCAHH', 'AvgCAHA'],\n",
       "      dtype='object', length=106)"
      ]
     },
     "execution_count": 6,
     "metadata": {},
     "output_type": "execute_result"
    }
   ],
   "source": [
    "df_current_season.columns\n"
   ]
  },
  {
   "cell_type": "code",
   "execution_count": 9,
   "metadata": {},
   "outputs": [],
   "source": [
    "## Récupérer les données des 3 promus en PL : Leeds United, Fulham FC et West Bromwich Albion\n",
    "df_leeds_home=df_D2_last_season[df_D2_last_season['HomeTeam']=='Leads']\n",
    "df_leeds_away=df_D2_last_season[df_D2_last_season['AwayTeam']=='Leads']\n",
    "df_fulham_home=df_D2_last_season[df_D2_last_season['HomeTeam']=='Fulham']\n",
    "df_fulham_away=df_D2_last_season[df_D2_last_season['AwayTeam']=='Fulham']\n",
    "df_west_brom_home=df_D2_last_season[df_D2_last_season['HomeTeam']=='West Brom']\n",
    "df_west_brom_away=df_D2_last_season[df_D2_last_season['AwayTeam']=='West Brom']\n",
    "df_D2_last_season=pd.concat([df_leeds_home,df_leeds_away,df_fulham_home,df_fulham_away,df_west_brom_home,df_west_brom_away],axis=0)"
   ]
  },
  {
   "cell_type": "code",
   "execution_count": 10,
   "metadata": {},
   "outputs": [],
   "source": [
    "## Concaténer les résultats des promus avec les résultats de la saison passée de PL\n",
    "df_last_season=pd.concat([df_last_season,df_D2_last_season],axis=0)"
   ]
  },
  {
   "cell_type": "code",
   "execution_count": 11,
   "metadata": {},
   "outputs": [],
   "source": [
    "teams_s1 = df_current_season.columns.unique()"
   ]
  },
  {
   "cell_type": "code",
   "execution_count": 13,
   "metadata": {},
   "outputs": [
    {
     "data": {
      "text/plain": [
       "(106,)"
      ]
     },
     "execution_count": 13,
     "metadata": {},
     "output_type": "execute_result"
    }
   ],
   "source": [
    "teams_s1.shape"
   ]
  },
  {
   "cell_type": "code",
   "execution_count": 15,
   "metadata": {},
   "outputs": [
    {
     "data": {
      "text/plain": [
       "(106,)"
      ]
     },
     "execution_count": 15,
     "metadata": {},
     "output_type": "execute_result"
    }
   ],
   "source": [
    "teams_last=df_last_season.columns.unique()\n",
    "teams_last.shape"
   ]
  },
  {
   "cell_type": "code",
   "execution_count": 16,
   "metadata": {},
   "outputs": [],
   "source": [
    "df_both_seasons = pd.concat([df_current_season, df_last_season], axis=0)"
   ]
  },
  {
   "cell_type": "code",
   "execution_count": 17,
   "metadata": {},
   "outputs": [],
   "source": [
    "df_both_seasons['Date'] = pd.to_datetime(df_both_seasons['Date'], errors='coerce')"
   ]
  },
  {
   "cell_type": "code",
   "execution_count": 18,
   "metadata": {},
   "outputs": [],
   "source": [
    "df_both_seasons['Day'] = df_both_seasons['Date'].dt.day\n",
    "df_both_seasons['Month'] = df_both_seasons['Date'].dt.month\n",
    "df_both_seasons['Year'] = df_both_seasons['Date'].dt.year"
   ]
  },
  {
   "cell_type": "code",
   "execution_count": null,
   "metadata": {},
   "outputs": [],
   "source": [
    "df_both_seasons_essentials = df_both_seasons[['Day','Month','Year','HomeTeam', 'AwayTeam', 'FTHG', 'FTAG', 'HST', 'AST']]"
   ]
  }
 ],
 "metadata": {
  "celltoolbar": "Format de la Cellule Texte Brut",
  "kernelspec": {
   "display_name": "Python 3",
   "language": "python",
   "name": "python3"
  },
  "language_info": {
   "codemirror_mode": {
    "name": "ipython",
    "version": 3
   },
   "file_extension": ".py",
   "mimetype": "text/x-python",
   "name": "python",
   "nbconvert_exporter": "python",
   "pygments_lexer": "ipython3",
   "version": "3.7.0"
  }
 },
 "nbformat": 4,
 "nbformat_minor": 2
}
